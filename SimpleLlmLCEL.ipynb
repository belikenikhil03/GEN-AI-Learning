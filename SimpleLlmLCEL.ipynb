{
 "cells": [
  {
   "cell_type": "code",
   "execution_count": 2,
   "metadata": {},
   "outputs": [],
   "source": [
    "import os\n",
    "from dotenv import load_dotenv\n",
    "load_dotenv()\n",
    "\n",
    "# Correct usage: os.environ is a dictionary, not a function\n",
    "groq_api_key = os.getenv(\"groq_api_key\")"
   ]
  },
  {
   "cell_type": "code",
   "execution_count": 3,
   "metadata": {},
   "outputs": [
    {
     "data": {
      "text/plain": [
       "ChatGroq(client=<groq.resources.chat.completions.Completions object at 0x0000018A822F4910>, async_client=<groq.resources.chat.completions.AsyncCompletions object at 0x0000018A822FF640>, model_name='gemma2-9b-It', groq_api_key=SecretStr('**********'))"
      ]
     },
     "execution_count": 3,
     "metadata": {},
     "output_type": "execute_result"
    }
   ],
   "source": [
    "from langchain_groq import ChatGroq\n",
    "model = ChatGroq(model=\"gemma2-9b-It\", groq_api_key=groq_api_key)\n",
    "model"
   ]
  },
  {
   "cell_type": "code",
   "execution_count": 9,
   "metadata": {},
   "outputs": [
    {
     "data": {
      "text/plain": [
       "AIMessage(content='The provided message is a bit confusing as it\\'s repeated \"Hello, My name is Nikhil name is Nikhil?\". \\n\\nHere\\'s a possible interpretation and translation:\\n\\n**English:** Hello, my name is Nikhil. Is your name Nikhil?\\n\\n**French:** Bonjour, je m\\'appelle Nikhil. Tu t\\'appelles Nikhil ?\\n\\n**Explanation:**\\n\\n* **Bonjour:** Hello\\n* **je m\\'appelle Nikhil:** My name is Nikhil\\n* **Tu t\\'appelles Nikhil ?**  Is your name Nikhil? \\n\\n\\n\\n\\nLet me know if you had something else in mind!\\n', response_metadata={'token_usage': {'completion_tokens': 135, 'prompt_tokens': 26, 'total_tokens': 161, 'completion_time': 0.245454545, 'prompt_time': 0.001923614, 'queue_time': 0.166047414, 'total_time': 0.247378159}, 'model_name': 'gemma2-9b-It', 'system_fingerprint': 'fp_10c08bf97d', 'finish_reason': 'stop', 'logprobs': None}, id='run-001cf4d5-65ba-4726-b88c-b52bb30027c4-0', usage_metadata={'input_tokens': 26, 'output_tokens': 135, 'total_tokens': 161})"
      ]
     },
     "execution_count": 9,
     "metadata": {},
     "output_type": "execute_result"
    }
   ],
   "source": [
    "from langchain_core.messages import HumanMessage, SystemMessage\n",
    "messages = [\n",
    "    SystemMessage(content=\"Translate the following message from english to french.\"),\n",
    "    HumanMessage(content=\"Hello, My name is Nikhil?\")\n",
    "]\n",
    "\n",
    "result = model.invoke(messages)\n",
    "result"
   ]
  },
  {
   "cell_type": "code",
   "execution_count": 8,
   "metadata": {},
   "outputs": [
    {
     "data": {
      "text/plain": [
       "\"The French translation of the message is:\\n\\n**Bonjour, Je m'appelle Nikhil. Comment dit-on Nikhil en français ?**\\n\\nHere's a breakdown:\\n\\n* **Bonjour:** Hello\\n* **Je m'appelle Nikhil:** My name is Nikhil\\n* **Comment dit-on Nikhil en français ?:** How do you say Nikhil in French? \\n\\n\\nLet me know if you have any other phrases you'd like translated!\\n\""
      ]
     },
     "execution_count": 8,
     "metadata": {},
     "output_type": "execute_result"
    }
   ],
   "source": [
    "from langchain_core.output_parsers import StrOutputParser\n",
    "parser = StrOutputParser()\n",
    "parser.invoke(result)"
   ]
  },
  {
   "cell_type": "code",
   "execution_count": 11,
   "metadata": {},
   "outputs": [
    {
     "data": {
      "text/plain": [
       "\"The message is a bit confusing as it seems to be asking the same question twice. \\n\\nHere are a couple of ways to translate it, depending on the intended meaning:\\n\\n**Option 1 (Asking for confirmation):**\\n\\n* Bonjour, je m'appelle Nikhil. Est-ce que vous dites Nikhil ?\\n\\n**Option 2 (Asking if someone else is named Nikhil):**\\n\\n* Bonjour, je m'appelle Nikhil. Quelqu'un d'autre s'appelle Nikhil ?\\n\\nLet me know if you had something else in mind! \\n\\n\\n\""
      ]
     },
     "execution_count": 11,
     "metadata": {},
     "output_type": "execute_result"
    }
   ],
   "source": [
    "chain = model|parser\n",
    "chain.invoke(messages)"
   ]
  },
  {
   "cell_type": "code",
   "execution_count": 13,
   "metadata": {},
   "outputs": [],
   "source": [
    "from langchain_core.prompts import ChatPromptTemplate\n",
    "\n",
    "generic_template = \"Translate the following message into {language}\"\n",
    "\n",
    "prompt = ChatPromptTemplate.from_messages(\n",
    "    [(\"system\", generic_template),(\"user\", \"{text}\")]\n",
    ")\n"
   ]
  },
  {
   "cell_type": "code",
   "execution_count": 15,
   "metadata": {},
   "outputs": [],
   "source": [
    "result = prompt.invoke({\"language\": \"French\", \"text\": \"Hello, I am Nikhil\"})"
   ]
  },
  {
   "cell_type": "code",
   "execution_count": 16,
   "metadata": {},
   "outputs": [
    {
     "data": {
      "text/plain": [
       "[SystemMessage(content='Translate the following message into French'),\n",
       " HumanMessage(content='Hello, I am Nikhil')]"
      ]
     },
     "execution_count": 16,
     "metadata": {},
     "output_type": "execute_result"
    }
   ],
   "source": [
    "result.to_messages()"
   ]
  },
  {
   "cell_type": "code",
   "execution_count": 18,
   "metadata": {},
   "outputs": [
    {
     "data": {
      "text/plain": [
       "'The French translation of \"Car\" is **\"voiture\"**. \\n\\n\\nLet me know if you have any other words or phrases you\\'d like me to translate! 😊 \\n'"
      ]
     },
     "execution_count": 18,
     "metadata": {},
     "output_type": "execute_result"
    }
   ],
   "source": [
    "chain = prompt|model|parser\n",
    "chain.invoke({\"language\": \"French\", \"text\":\"Car\"})"
   ]
  },
  {
   "cell_type": "code",
   "execution_count": null,
   "metadata": {},
   "outputs": [],
   "source": []
  }
 ],
 "metadata": {
  "kernelspec": {
   "display_name": "Python 3",
   "language": "python",
   "name": "python3"
  },
  "language_info": {
   "codemirror_mode": {
    "name": "ipython",
    "version": 3
   },
   "file_extension": ".py",
   "mimetype": "text/x-python",
   "name": "python",
   "nbconvert_exporter": "python",
   "pygments_lexer": "ipython3",
   "version": "3.8.19"
  }
 },
 "nbformat": 4,
 "nbformat_minor": 2
}
